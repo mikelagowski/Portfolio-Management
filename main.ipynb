{
 "cells": [
  {
   "cell_type": "code",
   "execution_count": 36,
   "metadata": {},
   "outputs": [],
   "source": [
    "from scipy.optimize import minimize\n",
    "import numpy as np\n",
    "import pandas as pd\n",
    "import matplotlib.pyplot as plt\n",
    "import warnings\n",
    "warnings.filterwarnings(\"ignore\")\n",
    "import yfinance as yf\n",
    "from backtest import *"
   ]
  },
  {
   "cell_type": "code",
   "execution_count": 108,
   "metadata": {},
   "outputs": [
    {
     "name": "stdout",
     "output_type": "stream",
     "text": [
      "[*********************100%%**********************]  1 of 1 completed\n",
      "[*********************100%%**********************]  3 of 3 completed\n"
     ]
    }
   ],
   "source": [
    "# Set the start and end date\n",
    "start_date = '2000-01-01'\n",
    "end_date = '2022-12-31'\n",
    "\n",
    "# Set the tickers\n",
    "tickers = [\"SPY5.L\", \"SGLN.L\", \"XDWT.DE\"]\n",
    "risk_free = yf.download('^IRX', start = start, end = end)['Adj Close']\n",
    "risk_free = float(risk_free.tail(1))\n",
    "\n",
    "# Get the data\n",
    "data = yf.download(tickers, start_date, end_date)\n",
    "data = data[\"Adj Close\"]\n",
    "\n",
    "# Drop missing values\n",
    "data = data.dropna().pct_change(1).dropna()"
   ]
  },
  {
   "cell_type": "code",
   "execution_count": 90,
   "metadata": {},
   "outputs": [],
   "source": [
    "def MV_criterion(weights, data):\n",
    "    \"\"\"\n",
    "    -----------------------------------------------------------------------------\n",
    "    | Output: optimization porfolio criterion                                   |\n",
    "    -----------------------------------------------------------------------------\n",
    "    | Inputs: -weight (type ndarray numpy): Weight for portfolio               |\n",
    "    |         -data (type ndarray numpy): Returns of stocks                     |\n",
    "    -----------------------------------------------------------------------------\n",
    "    \"\"\"\n",
    "\n",
    "    # Parameters\n",
    "    Lambda = 3\n",
    "    W = 1\n",
    "    Wbar = 1 + risk_free / 100\n",
    "\n",
    "    # Compute portfolio returns\n",
    "    portfolio_return = np.multiply(data, np.transpose(weights))\n",
    "    portfolio_return = portfolio_return.sum(axis=1)\n",
    "\n",
    "    # Compute mean and volatility of the portfolio\n",
    "    mean = np.mean(portfolio_return, axis=0)\n",
    "    std = np.std(portfolio_return, axis=0)\n",
    "\n",
    "    # Compute the criterion\n",
    "    criterion = Wbar ** (1 - Lambda) / (1 + Lambda) + Wbar ** (-Lambda) \\\n",
    "                * W * mean - Lambda / 2 * Wbar ** (-1 - Lambda) * W ** 2 * std ** 2\n",
    "    criterion = -criterion\n",
    "    \n",
    "    return criterion"
   ]
  },
  {
   "cell_type": "code",
   "execution_count": 107,
   "metadata": {},
   "outputs": [
    {
     "name": "stdout",
     "output_type": "stream",
     "text": [
      "[0.33331761 0.33325123 0.33343117]\n"
     ]
    }
   ],
   "source": [
    "# Define train and test sets\n",
    "split = int(0.8 * len(data))\n",
    "train_set = data.iloc[:split, :]\n",
    "test_set = data.iloc[split:, :]\n",
    "\n",
    "# Find the number of asset\n",
    "n = data.shape[1]\n",
    "\n",
    "# Initialisation weight value\n",
    "x0 = np.ones(n)\n",
    "\n",
    "# Optimization constraints problem\n",
    "cons = ({'type': 'eq', 'fun': lambda x: sum(abs(x)) - 1})\n",
    "\n",
    "# Set the bounds\n",
    "Bounds = [(0, 1) for i in range(0, n)]\n",
    "\n",
    "# Optimization problem solving\n",
    "res_MV = minimize(MV_criterion, x0, method=\"SLSQP\",\n",
    "                  args=(train_set), bounds=Bounds,\n",
    "                  constraints=cons, options={'disp': False})\n",
    "\n",
    "# Result for computations\n",
    "X_MV = res_MV.x\n",
    "\n",
    "print(X_MV)"
   ]
  }
 ],
 "metadata": {
  "kernelspec": {
   "display_name": "Python 3",
   "language": "python",
   "name": "python3"
  },
  "language_info": {
   "codemirror_mode": {
    "name": "ipython",
    "version": 3
   },
   "file_extension": ".py",
   "mimetype": "text/x-python",
   "name": "python",
   "nbconvert_exporter": "python",
   "pygments_lexer": "ipython3",
   "version": "3.11.5"
  }
 },
 "nbformat": 4,
 "nbformat_minor": 2
}
